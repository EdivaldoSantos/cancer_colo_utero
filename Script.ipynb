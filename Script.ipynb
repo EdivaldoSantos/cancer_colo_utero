{
 "cells": [
  {
   "cell_type": "code",
   "execution_count": 2,
   "metadata": {},
   "outputs": [],
   "source": [
    "# Importação das bibliotecas \n",
    "import numpy as np # Essa biblioteca consiste em objetos chamados de arrays (matrizes), que são multidimensionais\n",
    "import pandas as pd # Biblioteca que oferece estruturas e operações para manipular tabelas numéricas e séries temporais\n",
    "import matplotlib.pyplot as plt # Biblioteca é utilizada para criação de gráficos e visualização de dados\n",
    "import tensorflow as tf # Biblioteca para computação numérica usando grafos de fluxo de dados para um rede neural\n",
    "import seaborn as sns # Ele fornece uma interface de alto nível para desenhar gráficos estatísticos atraentes e informativos.\n",
    "import os # Biblioteca de comandos do sistema operacional utilizada para fazer automação de processos no Python\n",
    "import glob # É usado para retornar todos os caminhos de arquivo que correspondem a um padrão específico.\n",
    "import plotly.graph_objects as go # Biblioteca de gráficos interativos com qualidade de publicação\n",
    "import cv2 # É uma biblioteca que possui funções de manipulações básicas de imagens e vídeos, desde o carregamento de arquivos.\n",
    "import warnings # Biblioteca responsavel por gerar avisos\n",
    "from PIL import Image # Oferece amplo suporte a formatos de arquivo, uma representação interna eficiente e recursos de processamento de imagem bastante poderosos,\n",
    "from PIL import ImageFile \n",
    "from sklearn.model_selection import train_test_split\n",
    "from sklearn.preprocessing import LabelEncoder\n",
    "from sklearn.metrics import accuracy_score, confusion_matrix, classification_report\n",
    "from keras.optimizers import adam_v2\n",
    "from keras.preprocessing.image import ImageDataGenerator\n",
    "from keras.utils.np_utils import to_categorical\n",
    "from keras.applications.vgg16 import VGG16\n",
    "from keras.models import Sequential\n",
    "from keras.layers import Dense, Flatten , Dropout\n",
    "from keras.callbacks import EarlyStopping, ReduceLROnPlateau,ModelCheckpoint\n",
    "warnings.filterwarnings(\"ignore\")\n",
    "ImageFile.LOAD_TRUNCATED_IMAGES = True"
   ]
  },
  {
   "cell_type": "code",
   "execution_count": 6,
   "metadata": {},
   "outputs": [
    {
     "name": "stdout",
     "output_type": "stream",
     "text": [
      "Caminho do dadaset é :  D:\\GIT\\ProjetoII\\dataset\\treino\n",
      "\n",
      "Caminho do dadaset para o tipo 1 é :  D:\\GIT\\ProjetoII\\dataset\\treino\\tipo_1\n",
      "\n",
      "Foram adicionado 1441 imagens do Tipo 1  \n",
      "Foram adicionado 4348 imagens do Tipo 2\n",
      "Foram adicionado 2426 imagens do Tipo 3\n"
     ]
    }
   ],
   "source": [
    "# Carregando Dataset \n",
    "\n",
    "root_dir = 'D:\\GIT\\ProjetoII\\dataset' # Acessando diretorio de onde está localizado o dataset que iremos trabalhar.\n",
    "treino_dir = os.path.join(root_dir,'treino') # Método para unir um ou mais componentes de caminho de forma inteligente.\n",
    "print('''Caminho do dadaset é : ''',treino_dir)\n",
    "print()\n",
    "\n",
    "tipo1_dir = os.path.join(treino_dir, 'tipo_1')# Acessando diretorio \"Tipo_*\", onde estão nosssa imagens.\n",
    "tipo2_dir = os.path.join(treino_dir, 'tipo_2')\n",
    "tipo3_dir = os.path.join(treino_dir, 'tipo_3')\n",
    "print('''Caminho do dadaset para o tipo 1 é : ''',tipo1_dir)\n",
    "print()\n",
    "\n",
    "treino_tipo1_files = glob.glob(tipo1_dir+'/*.jpg') # Encontra todos os nomes de caminho que correspondem a um padrão especificado de acordo com as regras usadas pelo shell Unix\n",
    "treino_tipo2_files = glob.glob(tipo2_dir+'/*.jpg')\n",
    "treino_tipo3_files = glob.glob(tipo3_dir+'/*.jpg')\n",
    "\n",
    "\n",
    "added_tipo1_files  =  glob.glob(os.path.join(root_dir, \"adicionar_tipo_1\", \"tipo_1\")+'/*.jpg')\n",
    "added_tipo2_files  =  glob.glob(os.path.join(root_dir, \"adicionar_tipo_2\", \"tipo_2\")+'/*.jpg')\n",
    "added_tipo3_files  =  glob.glob(os.path.join(root_dir, \"adicionar_tipo_3\", \"tipo_3\")+'/*.jpg')\n",
    "\n",
    "\n",
    "tipo1_files = treino_tipo1_files + added_tipo1_files\n",
    "tipo2_files = treino_tipo2_files + added_tipo2_files\n",
    "tipo3_files = treino_tipo3_files + added_tipo3_files\n",
    "\n",
    "print(f'''Foram adicionado {len(tipo1_files)} imagens do Tipo 1  \n",
    "Foram adicionado {len(tipo2_files)} imagens do Tipo 2\n",
    "Foram adicionado {len(tipo3_files)} imagens do Tipo 3''' )"
   ]
  },
  {
   "cell_type": "code",
   "execution_count": 7,
   "metadata": {},
   "outputs": [
    {
     "data": {
      "text/html": [
       "<div>\n",
       "<style scoped>\n",
       "    .dataframe tbody tr th:only-of-type {\n",
       "        vertical-align: middle;\n",
       "    }\n",
       "\n",
       "    .dataframe tbody tr th {\n",
       "        vertical-align: top;\n",
       "    }\n",
       "\n",
       "    .dataframe thead th {\n",
       "        text-align: right;\n",
       "    }\n",
       "</style>\n",
       "<table border=\"1\" class=\"dataframe\">\n",
       "  <thead>\n",
       "    <tr style=\"text-align: right;\">\n",
       "      <th></th>\n",
       "      <th>caminho</th>\n",
       "      <th>rotulos</th>\n",
       "    </tr>\n",
       "  </thead>\n",
       "  <tbody>\n",
       "    <tr>\n",
       "      <th>0</th>\n",
       "      <td>D:\\GIT\\ProjetoII\\dataset\\treino\\tipo_1\\1414.jpg</td>\n",
       "      <td>Tipo 1</td>\n",
       "    </tr>\n",
       "    <tr>\n",
       "      <th>1</th>\n",
       "      <td>D:\\GIT\\ProjetoII\\dataset\\adicionar_tipo_3\\tipo...</td>\n",
       "      <td>Tipo 3</td>\n",
       "    </tr>\n",
       "    <tr>\n",
       "      <th>2</th>\n",
       "      <td>D:\\GIT\\ProjetoII\\dataset\\adicionar_tipo_1\\tipo...</td>\n",
       "      <td>Tipo 1</td>\n",
       "    </tr>\n",
       "    <tr>\n",
       "      <th>3</th>\n",
       "      <td>D:\\GIT\\ProjetoII\\dataset\\adicionar_tipo_2\\tipo...</td>\n",
       "      <td>Tipo 2</td>\n",
       "    </tr>\n",
       "    <tr>\n",
       "      <th>4</th>\n",
       "      <td>D:\\GIT\\ProjetoII\\dataset\\adicionar_tipo_3\\tipo...</td>\n",
       "      <td>Tipo 3</td>\n",
       "    </tr>\n",
       "    <tr>\n",
       "      <th>...</th>\n",
       "      <td>...</td>\n",
       "      <td>...</td>\n",
       "    </tr>\n",
       "    <tr>\n",
       "      <th>8210</th>\n",
       "      <td>D:\\GIT\\ProjetoII\\dataset\\adicionar_tipo_2\\tipo...</td>\n",
       "      <td>Tipo 2</td>\n",
       "    </tr>\n",
       "    <tr>\n",
       "      <th>8211</th>\n",
       "      <td>D:\\GIT\\ProjetoII\\dataset\\adicionar_tipo_3\\tipo...</td>\n",
       "      <td>Tipo 3</td>\n",
       "    </tr>\n",
       "    <tr>\n",
       "      <th>8212</th>\n",
       "      <td>D:\\GIT\\ProjetoII\\dataset\\adicionar_tipo_1\\tipo...</td>\n",
       "      <td>Tipo 1</td>\n",
       "    </tr>\n",
       "    <tr>\n",
       "      <th>8213</th>\n",
       "      <td>D:\\GIT\\ProjetoII\\dataset\\adicionar_tipo_2\\tipo...</td>\n",
       "      <td>Tipo 2</td>\n",
       "    </tr>\n",
       "    <tr>\n",
       "      <th>8214</th>\n",
       "      <td>D:\\GIT\\ProjetoII\\dataset\\treino\\tipo_1\\908.jpg</td>\n",
       "      <td>Tipo 1</td>\n",
       "    </tr>\n",
       "  </tbody>\n",
       "</table>\n",
       "<p>8215 rows × 2 columns</p>\n",
       "</div>"
      ],
      "text/plain": [
       "                                                caminho rotulos\n",
       "0       D:\\GIT\\ProjetoII\\dataset\\treino\\tipo_1\\1414.jpg  Tipo 1\n",
       "1     D:\\GIT\\ProjetoII\\dataset\\adicionar_tipo_3\\tipo...  Tipo 3\n",
       "2     D:\\GIT\\ProjetoII\\dataset\\adicionar_tipo_1\\tipo...  Tipo 1\n",
       "3     D:\\GIT\\ProjetoII\\dataset\\adicionar_tipo_2\\tipo...  Tipo 2\n",
       "4     D:\\GIT\\ProjetoII\\dataset\\adicionar_tipo_3\\tipo...  Tipo 3\n",
       "...                                                 ...     ...\n",
       "8210  D:\\GIT\\ProjetoII\\dataset\\adicionar_tipo_2\\tipo...  Tipo 2\n",
       "8211  D:\\GIT\\ProjetoII\\dataset\\adicionar_tipo_3\\tipo...  Tipo 3\n",
       "8212  D:\\GIT\\ProjetoII\\dataset\\adicionar_tipo_1\\tipo...  Tipo 1\n",
       "8213  D:\\GIT\\ProjetoII\\dataset\\adicionar_tipo_2\\tipo...  Tipo 2\n",
       "8214     D:\\GIT\\ProjetoII\\dataset\\treino\\tipo_1\\908.jpg  Tipo 1\n",
       "\n",
       "[8215 rows x 2 columns]"
      ]
     },
     "execution_count": 7,
     "metadata": {},
     "output_type": "execute_result"
    }
   ],
   "source": [
    "# Criar dataframe dos arquivo e rótulos\n",
    "arquivos = {'caminho': tipo1_files + tipo2_files + tipo3_files,\n",
    "          'rotulos': ['Tipo 1']* len(tipo1_files) + ['Tipo 2']* len(tipo2_files) + ['Tipo 3']* len(tipo3_files)}\n",
    "\n",
    "cance_df = pd.DataFrame(arquivos).sample(frac=1, random_state= 1).reset_index(drop=True)\n",
    "cance_df"
   ]
  },
  {
   "cell_type": "code",
   "execution_count": 8,
   "metadata": {},
   "outputs": [
    {
     "data": {
      "text/html": [
       "<div>\n",
       "<style scoped>\n",
       "    .dataframe tbody tr th:only-of-type {\n",
       "        vertical-align: middle;\n",
       "    }\n",
       "\n",
       "    .dataframe tbody tr th {\n",
       "        vertical-align: top;\n",
       "    }\n",
       "\n",
       "    .dataframe thead th {\n",
       "        text-align: right;\n",
       "    }\n",
       "</style>\n",
       "<table border=\"1\" class=\"dataframe\">\n",
       "  <thead>\n",
       "    <tr style=\"text-align: right;\">\n",
       "      <th></th>\n",
       "      <th>caminho</th>\n",
       "      <th>rotulos</th>\n",
       "    </tr>\n",
       "  </thead>\n",
       "  <tbody>\n",
       "    <tr>\n",
       "      <th>count</th>\n",
       "      <td>8215</td>\n",
       "      <td>8215</td>\n",
       "    </tr>\n",
       "    <tr>\n",
       "      <th>unique</th>\n",
       "      <td>8215</td>\n",
       "      <td>3</td>\n",
       "    </tr>\n",
       "    <tr>\n",
       "      <th>top</th>\n",
       "      <td>D:\\GIT\\ProjetoII\\dataset\\adicionar_tipo_1\\tipo...</td>\n",
       "      <td>Tipo 2</td>\n",
       "    </tr>\n",
       "    <tr>\n",
       "      <th>freq</th>\n",
       "      <td>1</td>\n",
       "      <td>4348</td>\n",
       "    </tr>\n",
       "  </tbody>\n",
       "</table>\n",
       "</div>"
      ],
      "text/plain": [
       "                                                  caminho rotulos\n",
       "count                                                8215    8215\n",
       "unique                                               8215       3\n",
       "top     D:\\GIT\\ProjetoII\\dataset\\adicionar_tipo_1\\tipo...  Tipo 2\n",
       "freq                                                    1    4348"
      ]
     },
     "execution_count": 8,
     "metadata": {},
     "output_type": "execute_result"
    }
   ],
   "source": [
    "# Describe(), método calcula e exibe estatísticas resumidas para um dataframe\n",
    "cance_df.describe()"
   ]
  },
  {
   "cell_type": "code",
   "execution_count": 9,
   "metadata": {},
   "outputs": [
    {
     "data": {
      "text/plain": [
       "0"
      ]
     },
     "execution_count": 9,
     "metadata": {},
     "output_type": "execute_result"
    }
   ],
   "source": [
    "# check for duplicates\n",
    "len(cance_df[cance_df.duplicated(subset=['caminho'])])"
   ]
  },
  {
   "cell_type": "code",
   "execution_count": 10,
   "metadata": {},
   "outputs": [
    {
     "name": "stdout",
     "output_type": "stream",
     "text": [
      "3\n"
     ]
    }
   ],
   "source": [
    "# Verificando se existe arquivos danificado\n",
    "bad_files = []\n",
    "for path in (cance_df['caminho'].values):\n",
    "    try:\n",
    "        img = Image.open(path)\n",
    "    except:\n",
    "        index = cance_df[cance_df['caminho']==path].index.values[0]\n",
    "        bad_files.append(index)\n",
    "print(len(bad_files))"
   ]
  },
  {
   "cell_type": "code",
   "execution_count": 11,
   "metadata": {},
   "outputs": [],
   "source": [
    "# Deletando arquivos danificados\n",
    "cance_df.drop(bad_files, inplace=True)"
   ]
  },
  {
   "cell_type": "code",
   "execution_count": 79,
   "metadata": {},
   "outputs": [
    {
     "data": {
      "text/html": [
       "<div>\n",
       "<style scoped>\n",
       "    .dataframe tbody tr th:only-of-type {\n",
       "        vertical-align: middle;\n",
       "    }\n",
       "\n",
       "    .dataframe tbody tr th {\n",
       "        vertical-align: top;\n",
       "    }\n",
       "\n",
       "    .dataframe thead th {\n",
       "        text-align: right;\n",
       "    }\n",
       "</style>\n",
       "<table border=\"1\" class=\"dataframe\">\n",
       "  <thead>\n",
       "    <tr style=\"text-align: right;\">\n",
       "      <th></th>\n",
       "      <th>quantidade</th>\n",
       "    </tr>\n",
       "  </thead>\n",
       "  <tbody>\n",
       "    <tr>\n",
       "      <th>Tipo 2</th>\n",
       "      <td>4346</td>\n",
       "    </tr>\n",
       "    <tr>\n",
       "      <th>Tipo 3</th>\n",
       "      <td>2426</td>\n",
       "    </tr>\n",
       "    <tr>\n",
       "      <th>Tipo 1</th>\n",
       "      <td>1440</td>\n",
       "    </tr>\n",
       "  </tbody>\n",
       "</table>\n",
       "</div>"
      ],
      "text/plain": [
       "        quantidade\n",
       "Tipo 2        4346\n",
       "Tipo 3        2426\n",
       "Tipo 1        1440"
      ]
     },
     "execution_count": 79,
     "metadata": {},
     "output_type": "execute_result"
    }
   ],
   "source": [
    "tipo_count = pd.DataFrame(cance_df['rotulos'].value_counts()).rename(columns= {'rotulos': 'quantidade'})\n",
    "tipo_count"
   ]
  },
  {
   "cell_type": "code",
   "execution_count": 81,
   "metadata": {},
   "outputs": [
    {
     "data": {
      "image/png": "[encoded data removed]",
      "text/plain": [
       "<Figure size 1080x432 with 1 Axes>"
      ]
     },
     "metadata": {
      "needs_background": "light"
     },
     "output_type": "display_data"
    }
   ],
   "source": [
    "# exibir barplot de contagem de tipos\n",
    "plt.figure(figsize = (15, 6))\n",
    "sns.barplot(x=tipo_count['quantidade'], y= tipo_count.index.to_list())\n",
    "plt.title('Distribuição do tipo de câncer do colo do útero')\n",
    "plt.grid(True)\n",
    "plt.show()\n"
   ]
  },
  {
   "cell_type": "code",
   "execution_count": 110,
   "metadata": {},
   "outputs": [
    {
     "data": {
      "image/png": "[encoded data removed]",
      "text/plain": [
       "<Figure size 1368x720 with 1 Axes>"
      ]
     },
     "metadata": {},
     "output_type": "display_data"
    }
   ],
   "source": [
    "# Grafico do dataset\n",
    "plt.figure(figsize = (19, 10))\n",
    "cance_df[\"rotulos\"].value_counts().plot.pie(title='Distribuição do tipo de câncer do colo do útero', autopct='%.2f%%', legend = False, fontsize=14) \n",
    "plt.axis('equal')\n",
    "\n",
    "plt.show()"
   ]
  }
 ],
 "metadata": {
  "interpreter": {
   "hash": "01b4d66f4ff5e4536e6feeed3ec05f61a436485ede2de1a1c49b91e9463ca2a2"
  },
  "kernelspec": {
   "display_name": "Python 3.8.8 ('base')",
   "language": "python",
   "name": "python3"
  },
  "language_info": {
   "codemirror_mode": {
    "name": "ipython",
    "version": 3
   },
   "file_extension": ".py",
   "mimetype": "text/x-python",
   "name": "python",
   "nbconvert_exporter": "python",
   "pygments_lexer": "ipython3",
   "version": "3.8.8"
  },
  "orig_nbformat": 4
 },
 "nbformat": 4,
 "nbformat_minor": 2
}

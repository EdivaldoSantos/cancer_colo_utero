{
 "cells": [
  {
   "cell_type": "code",
   "execution_count": 1,
   "metadata": {},
   "outputs": [],
   "source": [
    "# Importação das bibliotecas \n",
    "import numpy as np # Essa biblioteca consiste em objetos chamados de arrays (matrizes), que são multidimensionais\n",
    "import pandas as pd\n",
    "import matplotlib.pyplot as plt\n",
    "import tensorflow as tf\n",
    "import seaborn as sns\n",
    "import os\n",
    "import glob # É usado para retornar todos os caminhos de arquivo que correspondem a um padrão específico.\n",
    "import plotly.graph_objects as go\n",
    "import cv2\n",
    "import warnings\n",
    "from PIL import Image\n",
    "from PIL import ImageFile\n",
    "from sklearn.model_selection import train_test_split\n",
    "from sklearn.preprocessing import LabelEncoder\n",
    "from sklearn.metrics import accuracy_score, confusion_matrix, classification_report\n",
    "#from tensorflow.keras.optimizers import Adam\n",
    "from keras.optimizers import adam_v2\n",
    "from keras.preprocessing.image import ImageDataGenerator\n",
    "from keras.utils.np_utils import to_categorical\n",
    "from keras.applications.vgg16 import VGG16\n",
    "from keras.models import Sequential\n",
    "from keras.layers import Dense, Flatten , Dropout\n",
    "from keras.callbacks import EarlyStopping, ReduceLROnPlateau,ModelCheckpoint\n",
    "warnings.filterwarnings(\"ignore\")\n",
    "ImageFile.LOAD_TRUNCATED_IMAGES = True"
   ]
  },
  {
   "cell_type": "code",
   "execution_count": 6,
   "metadata": {},
   "outputs": [
    {
     "name": "stdout",
     "output_type": "stream",
     "text": [
      "Foram adicionado 1441 imagens do Tipo 1  \n",
      "Foram adicionado 4348 imagens do Tipo 2\n",
      "Foram adicionado 2426 imagens do Tipo 3\n"
     ]
    }
   ],
   "source": [
    "# Carregando Dataset \n",
    "\n",
    "root_dir = '../cancer_colo_utero/dataset'\n",
    "treino_dir = os.path.join(root_dir,'treino') # método para unir um ou mais componentes de caminho de forma inteligente.\n",
    "\n",
    "tipo1_dir = os.path.join(treino_dir, 'tipo_1')\n",
    "tipo2_dir = os.path.join(treino_dir, 'tipo_2')\n",
    "tipo3_dir = os.path.join(treino_dir, 'tipo_3')\n",
    "\n",
    "treino_tipo1_files = glob.glob(tipo1_dir+'/*.jpg') # Encontra todos os nomes de caminho que correspondem a um padrão especificado de acordo com as regras usadas pelo shell Unix\n",
    "treino_tipo2_files = glob.glob(tipo2_dir+'/*.jpg')\n",
    "treino_tipo3_files = glob.glob(tipo3_dir+'/*.jpg')\n",
    "\n",
    "added_tipo1_files  =  glob.glob(os.path.join(root_dir, \"adicionar_tipo_1\", \"tipo_1\")+'/*.jpg')\n",
    "added_tipo2_files  =  glob.glob(os.path.join(root_dir, \"adicionar_tipo_2\", \"tipo_2\")+'/*.jpg')\n",
    "added_tipo3_files  =  glob.glob(os.path.join(root_dir, \"adicionar_tipo_3\", \"tipo_3\")+'/*.jpg')\n",
    "\n",
    "\n",
    "tipo1_files = treino_tipo1_files + added_tipo1_files\n",
    "tipo2_files = treino_tipo2_files + added_tipo2_files\n",
    "tipo3_files = treino_tipo3_files + added_tipo3_files\n",
    "\n",
    "print(f'''Foram adicionado {len(tipo1_files)} imagens do Tipo 1  \n",
    "Foram adicionado {len(tipo2_files)} imagens do Tipo 2\n",
    "Foram adicionado {len(tipo3_files)} imagens do Tipo 3''' )"
   ]
  },
  {
   "cell_type": "code",
   "execution_count": 7,
   "metadata": {},
   "outputs": [
    {
     "data": {
      "text/html": [
       "<div>\n",
       "<style scoped>\n",
       "    .dataframe tbody tr th:only-of-type {\n",
       "        vertical-align: middle;\n",
       "    }\n",
       "\n",
       "    .dataframe tbody tr th {\n",
       "        vertical-align: top;\n",
       "    }\n",
       "\n",
       "    .dataframe thead th {\n",
       "        text-align: right;\n",
       "    }\n",
       "</style>\n",
       "<table border=\"1\" class=\"dataframe\">\n",
       "  <thead>\n",
       "    <tr style=\"text-align: right;\">\n",
       "      <th></th>\n",
       "      <th>filepath</th>\n",
       "      <th>label</th>\n",
       "    </tr>\n",
       "  </thead>\n",
       "  <tbody>\n",
       "    <tr>\n",
       "      <th>0</th>\n",
       "      <td>../cancer_colo_utero/dataset\\treino\\tipo_1\\141...</td>\n",
       "      <td>Tipo 1</td>\n",
       "    </tr>\n",
       "    <tr>\n",
       "      <th>1</th>\n",
       "      <td>../cancer_colo_utero/dataset\\adicionar_tipo_3\\...</td>\n",
       "      <td>Tipo 3</td>\n",
       "    </tr>\n",
       "    <tr>\n",
       "      <th>2</th>\n",
       "      <td>../cancer_colo_utero/dataset\\adicionar_tipo_1\\...</td>\n",
       "      <td>Tipo 1</td>\n",
       "    </tr>\n",
       "    <tr>\n",
       "      <th>3</th>\n",
       "      <td>../cancer_colo_utero/dataset\\adicionar_tipo_2\\...</td>\n",
       "      <td>Tipo 2</td>\n",
       "    </tr>\n",
       "    <tr>\n",
       "      <th>4</th>\n",
       "      <td>../cancer_colo_utero/dataset\\adicionar_tipo_3\\...</td>\n",
       "      <td>Tipo 3</td>\n",
       "    </tr>\n",
       "    <tr>\n",
       "      <th>...</th>\n",
       "      <td>...</td>\n",
       "      <td>...</td>\n",
       "    </tr>\n",
       "    <tr>\n",
       "      <th>8210</th>\n",
       "      <td>../cancer_colo_utero/dataset\\adicionar_tipo_2\\...</td>\n",
       "      <td>Tipo 2</td>\n",
       "    </tr>\n",
       "    <tr>\n",
       "      <th>8211</th>\n",
       "      <td>../cancer_colo_utero/dataset\\adicionar_tipo_3\\...</td>\n",
       "      <td>Tipo 3</td>\n",
       "    </tr>\n",
       "    <tr>\n",
       "      <th>8212</th>\n",
       "      <td>../cancer_colo_utero/dataset\\adicionar_tipo_1\\...</td>\n",
       "      <td>Tipo 1</td>\n",
       "    </tr>\n",
       "    <tr>\n",
       "      <th>8213</th>\n",
       "      <td>../cancer_colo_utero/dataset\\adicionar_tipo_2\\...</td>\n",
       "      <td>Tipo 2</td>\n",
       "    </tr>\n",
       "    <tr>\n",
       "      <th>8214</th>\n",
       "      <td>../cancer_colo_utero/dataset\\treino\\tipo_1\\908...</td>\n",
       "      <td>Tipo 1</td>\n",
       "    </tr>\n",
       "  </tbody>\n",
       "</table>\n",
       "<p>8215 rows × 2 columns</p>\n",
       "</div>"
      ],
      "text/plain": [
       "                                               filepath   label\n",
       "0     ../cancer_colo_utero/dataset\\treino\\tipo_1\\141...  Tipo 1\n",
       "1     ../cancer_colo_utero/dataset\\adicionar_tipo_3\\...  Tipo 3\n",
       "2     ../cancer_colo_utero/dataset\\adicionar_tipo_1\\...  Tipo 1\n",
       "3     ../cancer_colo_utero/dataset\\adicionar_tipo_2\\...  Tipo 2\n",
       "4     ../cancer_colo_utero/dataset\\adicionar_tipo_3\\...  Tipo 3\n",
       "...                                                 ...     ...\n",
       "8210  ../cancer_colo_utero/dataset\\adicionar_tipo_2\\...  Tipo 2\n",
       "8211  ../cancer_colo_utero/dataset\\adicionar_tipo_3\\...  Tipo 3\n",
       "8212  ../cancer_colo_utero/dataset\\adicionar_tipo_1\\...  Tipo 1\n",
       "8213  ../cancer_colo_utero/dataset\\adicionar_tipo_2\\...  Tipo 2\n",
       "8214  ../cancer_colo_utero/dataset\\treino\\tipo_1\\908...  Tipo 1\n",
       "\n",
       "[8215 rows x 2 columns]"
      ]
     },
     "execution_count": 7,
     "metadata": {},
     "output_type": "execute_result"
    }
   ],
   "source": [
    "# create dataframe of file and labels\n",
    "files = {'filepath': tipo1_files + tipo2_files + tipo3_files,\n",
    "          'label': ['Tipo 1']* len(tipo1_files) + ['Tipo 2']* len(tipo2_files) + ['Tipo 3']* len(tipo3_files)}\n",
    "\n",
    "files_df = pd.DataFrame(files).sample(frac=1, random_state= 1).reset_index(drop=True)\n",
    "files_df"
   ]
  },
  {
   "cell_type": "code",
   "execution_count": 14,
   "metadata": {},
   "outputs": [
    {
     "data": {
      "text/html": [
       "<div>\n",
       "<style scoped>\n",
       "    .dataframe tbody tr th:only-of-type {\n",
       "        vertical-align: middle;\n",
       "    }\n",
       "\n",
       "    .dataframe tbody tr th {\n",
       "        vertical-align: top;\n",
       "    }\n",
       "\n",
       "    .dataframe thead th {\n",
       "        text-align: right;\n",
       "    }\n",
       "</style>\n",
       "<table border=\"1\" class=\"dataframe\">\n",
       "  <thead>\n",
       "    <tr style=\"text-align: right;\">\n",
       "      <th></th>\n",
       "      <th>filepath</th>\n",
       "      <th>label</th>\n",
       "    </tr>\n",
       "  </thead>\n",
       "  <tbody>\n",
       "    <tr>\n",
       "      <th>count</th>\n",
       "      <td>8215</td>\n",
       "      <td>8215</td>\n",
       "    </tr>\n",
       "    <tr>\n",
       "      <th>unique</th>\n",
       "      <td>8215</td>\n",
       "      <td>3</td>\n",
       "    </tr>\n",
       "    <tr>\n",
       "      <th>top</th>\n",
       "      <td>../cancer_colo_utero/dataset\\adicionar_tipo_2\\...</td>\n",
       "      <td>Tipo 2</td>\n",
       "    </tr>\n",
       "    <tr>\n",
       "      <th>freq</th>\n",
       "      <td>1</td>\n",
       "      <td>4348</td>\n",
       "    </tr>\n",
       "  </tbody>\n",
       "</table>\n",
       "</div>"
      ],
      "text/plain": [
       "                                                 filepath   label\n",
       "count                                                8215    8215\n",
       "unique                                               8215       3\n",
       "top     ../cancer_colo_utero/dataset\\adicionar_tipo_2\\...  Tipo 2\n",
       "freq                                                    1    4348"
      ]
     },
     "execution_count": 14,
     "metadata": {},
     "output_type": "execute_result"
    }
   ],
   "source": [
    "# describe the dataframe\n",
    "files_df.describe()"
   ]
  },
  {
   "cell_type": "code",
   "execution_count": 15,
   "metadata": {},
   "outputs": [
    {
     "data": {
      "text/plain": [
       "0"
      ]
     },
     "execution_count": 15,
     "metadata": {},
     "output_type": "execute_result"
    }
   ],
   "source": [
    "# check for duplicates\n",
    "len(files_df[files_df.duplicated(subset=['filepath'])])"
   ]
  }
 ],
 "metadata": {
  "interpreter": {
   "hash": "01b4d66f4ff5e4536e6feeed3ec05f61a436485ede2de1a1c49b91e9463ca2a2"
  },
  "kernelspec": {
   "display_name": "Python 3.8.8 ('base')",
   "language": "python",
   "name": "python3"
  },
  "language_info": {
   "codemirror_mode": {
    "name": "ipython",
    "version": 3
   },
   "file_extension": ".py",
   "mimetype": "text/x-python",
   "name": "python",
   "nbconvert_exporter": "python",
   "pygments_lexer": "ipython3",
   "version": "3.8.8"
  },
  "orig_nbformat": 4
 },
 "nbformat": 4,
 "nbformat_minor": 2
}
